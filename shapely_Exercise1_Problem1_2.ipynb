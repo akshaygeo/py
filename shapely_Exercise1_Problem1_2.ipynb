{
  "nbformat": 4,
  "nbformat_minor": 0,
  "metadata": {
    "colab": {
      "provenance": [],
      "include_colab_link": true
    },
    "kernelspec": {
      "name": "python3",
      "display_name": "Python 3"
    },
    "language_info": {
      "name": "python"
    }
  },
  "cells": [
    {
      "cell_type": "markdown",
      "metadata": {
        "id": "view-in-github",
        "colab_type": "text"
      },
      "source": [
        "<a href=\"https://colab.research.google.com/github/akshaygeo/py/blob/main/shapely_Exercise1_Problem1_2.ipynb\" target=\"_parent\"><img src=\"https://colab.research.google.com/assets/colab-badge.svg\" alt=\"Open In Colab\"/></a>"
      ]
    },
    {
      "cell_type": "markdown",
      "source": [
        "Source: https://github.com/Automating-GIS-processes-2022/Exercise-1/blob/main/Exercise-1-problem-1-2.ipynb"
      ],
      "metadata": {
        "id": "BHs6ggXof-wJ"
      }
    },
    {
      "cell_type": "markdown",
      "source": [
        "### Exercise 1: Working with Geometric Objects"
      ],
      "metadata": {
        "id": "d_SA9C7LgCRU"
      }
    },
    {
      "cell_type": "markdown",
      "source": [
        "#### Problem 1: Creating basic geometries\n",
        "\n",
        "You will create custom functions that create geometry objects."
      ],
      "metadata": {
        "id": "lwIJzwWqgNNk"
      }
    },
    {
      "cell_type": "code",
      "source": [
        "import shapely\n",
        "from shapely.geometry import Point, LineString, Polygon\n"
      ],
      "metadata": {
        "id": "sV2M1vDChgn0"
      },
      "execution_count": 1,
      "outputs": []
    },
    {
      "cell_type": "markdown",
      "source": [
        "1. Create a function called **create_point_geometry()** that accepts two parameters, `x_coord` and `y_coord`. The function should return a `shapely.geometry.Point` geometry object."
      ],
      "metadata": {
        "id": "KhVcKiq9gcMb"
      }
    },
    {
      "cell_type": "code",
      "source": [
        "def create_point_geometry(x_coord,y_coord):\n",
        "        return Point(x_coord,y_coord)\n",
        "\n",
        "  "
      ],
      "metadata": {
        "id": "iRS2pAPFgZVV"
      },
      "execution_count": 2,
      "outputs": []
    },
    {
      "cell_type": "code",
      "source": [
        "point1 = create_point_geometry(0.0,1.1)\n",
        "# Demonstrate how to use your function: Create a point object with coordinates 0.0 and 1.1, and store the result in a variable called point1."
      ],
      "metadata": {
        "id": "vpv_JF4MtoxG"
      },
      "execution_count": 3,
      "outputs": []
    },
    {
      "cell_type": "code",
      "source": [
        "print(point1)\n",
        "print(point1.geom_type)"
      ],
      "metadata": {
        "id": "OxxttFgTh6O1",
        "colab": {
          "base_uri": "https://localhost:8080/"
        },
        "outputId": "0ca6f1c5-d308-45fc-dea4-dbf3d3f04db1"
      },
      "execution_count": 4,
      "outputs": [
        {
          "output_type": "stream",
          "name": "stdout",
          "text": [
            "POINT (0 1.1)\n",
            "Point\n"
          ]
        }
      ]
    },
    {
      "cell_type": "markdown",
      "source": [
        "2. Create a function called **create_line_geometry()** that takes a list of `shapely.geometry.Points` as an argument, and returns a `shapely.geometry.LineString` object of those input points."
      ],
      "metadata": {
        "id": "4ErNhlZ3iHYN"
      }
    },
    {
      "cell_type": "code",
      "source": [
        "a_list=[]\n",
        "def create_line_geometry(a_list):\n",
        "     point1=Point(a_list[0])\n",
        "     point2=Point(a_list[1])\n",
        "     return LineString([point1, point2])\n",
        "\n",
        "\n",
        "# function create_line_geometry()"
      ],
      "metadata": {
        "id": "C_fG_mBciOFz"
      },
      "execution_count": 5,
      "outputs": []
    },
    {
      "cell_type": "code",
      "source": [
        "new_list=[(45.2, 22.34), (100.22, -3.20)]\n",
        "line1 = create_line_geometry(new_list)\n",
        "\n",
        "# Demonstrate how to use your function: Create a line object with two points, Point(45.2, 22.34) and Point(100.22, -3.20), and store the result in a variable called line1."
      ],
      "metadata": {
        "id": "ecal8z2eiX1S"
      },
      "execution_count": 6,
      "outputs": []
    },
    {
      "cell_type": "code",
      "source": [
        "print(line1)\n",
        "print(line1.geom_type)"
      ],
      "metadata": {
        "id": "GlhwmecosPLR",
        "colab": {
          "base_uri": "https://localhost:8080/"
        },
        "outputId": "44686ab7-e2c8-4e61-8de7-d0466aa7c619"
      },
      "execution_count": 7,
      "outputs": [
        {
          "output_type": "stream",
          "name": "stdout",
          "text": [
            "LINESTRING (45.2 22.34, 100.22 -3.2)\n",
            "LineString\n"
          ]
        }
      ]
    },
    {
      "cell_type": "markdown",
      "source": [
        "3. Create a function **create_polygon_geometry()** that accepts one parameter `coordinates`. `coordinates` should be a list of coordinate tuples. The function should create and return a `shapely.geometry.Polygon` object based on these coordinates."
      ],
      "metadata": {
        "id": "w8LJ84XFiwGY"
      }
    },
    {
      "cell_type": "code",
      "source": [
        "def create_polygon_geometry(x):\n",
        "      return Polygon(x)\n",
        "  \n",
        "  \n",
        "  \n",
        "   # function create_polygon_geometry()"
      ],
      "metadata": {
        "id": "ELT8aXnWi9Mz"
      },
      "execution_count": 8,
      "outputs": []
    },
    {
      "cell_type": "code",
      "source": [
        "coordintes=[Point(45.2, 22.34), Point(100.22, -3.20), Point(70.0, 10.20)]\n",
        "polygon1 = create_polygon_geometry(coordintes)\n",
        "\n",
        "# Demonstrate how to use the function. For example, create a Polygon polygon1 with three points: (45.2, 22.34), (100.22, -3.20), (70.0, 10.20)."
      ],
      "metadata": {
        "id": "GhExBJE6jH9h"
      },
      "execution_count": 9,
      "outputs": []
    },
    {
      "cell_type": "code",
      "source": [
        "print(polygon1)\n",
        "print(polygon1.geom_type)"
      ],
      "metadata": {
        "id": "pKU4SlCgsq6g",
        "colab": {
          "base_uri": "https://localhost:8080/"
        },
        "outputId": "5dc836af-0ec1-498d-8a80-efa3b456fb51"
      },
      "execution_count": 10,
      "outputs": [
        {
          "output_type": "stream",
          "name": "stdout",
          "text": [
            "POLYGON ((45.2 22.34, 100.22 -3.2, 70 10.2, 45.2 22.34))\n",
            "Polygon\n"
          ]
        }
      ]
    },
    {
      "cell_type": "markdown",
      "source": [
        "#### Problem 2: Attributes of geometries\n",
        "\n",
        "You will look at the geometric properties of geometries, and how to access them."
      ],
      "metadata": {
        "id": "BGcgFy-Djfuv"
      }
    },
    {
      "cell_type": "markdown",
      "source": [
        "4. Create a function called `get_centroid()` that accepts one parameter, `geom`. The function should take any kind of Shapely’s geometry objects (any instance of `shapely.geometry.base.BaseGeometry`) as an input, and return the centroid of that geometry. Check that the input is a `shapely.geometry.base.BaseGeometry` or one of its child classes. Otherwise, raise the error \"Input must be a shapely geometry\". *Hint: Check [isinstance](https://www.w3schools.com/python/ref_func_isinstance.asp) and [raise](https://www.w3schools.com/python/gloss_python_raise.asp)*\n"
      ],
      "metadata": {
        "id": "meBHGSvPjnfA"
      }
    },
    {
      "cell_type": "code",
      "source": [
        "from shapely.geometry.base import BaseGeometry"
      ],
      "metadata": {
        "id": "CyUtf5JclV-g"
      },
      "execution_count": 11,
      "outputs": []
    },
    {
      "cell_type": "code",
      "source": [
        "\n",
        "def get_centroid(geom):\n",
        "    if (isinstance(geom,shapely.geometry.base.BaseGeometry)):\n",
        "      return geom.centroid\n",
        "    else:\n",
        "       raise TypeError('Input must be a shapely geometry')\n",
        "# function get_centroid()"
      ],
      "metadata": {
        "id": "5VpxRjMWkKHS"
      },
      "execution_count": 65,
      "outputs": []
    },
    {
      "cell_type": "code",
      "source": [
        "centroid = get_centroid(polygon1)\n",
        "print(centroid)\n",
        "\n"
      ],
      "metadata": {
        "id": "gtmgmC2ykc_W",
        "colab": {
          "base_uri": "https://localhost:8080/"
        },
        "outputId": "93aea719-1263-4415-fdc9-55136f3a3ae4"
      },
      "execution_count": 66,
      "outputs": [
        {
          "output_type": "stream",
          "name": "stdout",
          "text": [
            "POINT (71.80666666666667 9.780000000000001)\n"
          ]
        }
      ]
    },
    {
      "cell_type": "code",
      "source": [
        "try:\n",
        "  # Pass something else than a Shapely geometry\n",
        "  get_centroid(\"Give me a centroid!\")\n",
        "except TypeError as exception:\n",
        "  print(f\"The function (correctly) detected an error. \\nThe error message was: {exception.args[0]}\")"
      ],
      "metadata": {
        "id": "uIrwZqnHnmzI",
        "colab": {
          "base_uri": "https://localhost:8080/"
        },
        "outputId": "93ba41df-adbd-4b5a-d6fe-b1521e1902df"
      },
      "execution_count": 67,
      "outputs": [
        {
          "output_type": "stream",
          "name": "stdout",
          "text": [
            "The function (correctly) detected an error. \n",
            "The error message was: Input must be a shapely geometry\n"
          ]
        }
      ]
    },
    {
      "cell_type": "markdown",
      "source": [
        "5. Create a function **get_area()** accepting one parameter `geom`. The function should accept a `shapely.geometry.Polygon` and return its area. If the argument is anything else, raise an error: \"Input should be a shapely.geometry.Polygon\"."
      ],
      "metadata": {
        "id": "XFFPqA4Sn2K6"
      }
    },
    {
      "cell_type": "code",
      "source": [
        "def get_area(geom):\n",
        "  if (isinstance (geom, Polygon)):\n",
        "    return geom.area\n",
        "  else:\n",
        "    raise TypeError ('Input should be a shapely.geometry.Polygon')\n",
        "# function get_area()"
      ],
      "metadata": {
        "id": "dtrOiq74oFgM"
      },
      "execution_count": 55,
      "outputs": []
    },
    {
      "cell_type": "code",
      "source": [
        "area = get_area(polygon1)\n",
        "print(round(area, 2))"
      ],
      "metadata": {
        "id": "dFDTjHErogqJ",
        "colab": {
          "base_uri": "https://localhost:8080/"
        },
        "outputId": "7a3e1e8e-b931-4480-ca8d-1449926ddbbb"
      },
      "execution_count": 48,
      "outputs": [
        {
          "output_type": "stream",
          "name": "stdout",
          "text": [
            "17.28\n"
          ]
        }
      ]
    },
    {
      "cell_type": "code",
      "source": [
        "try:\n",
        "  # Pass something else than a Shapely geometry\n",
        "  get_area(\"Give me an area!\")\n",
        "except TypeError as exception:\n",
        "  print(f\"The function (correctly) detected an error. \\nThe error message was: {exception.args[0]}\")\n"
      ],
      "metadata": {
        "id": "USpsh3WGo_wI",
        "colab": {
          "base_uri": "https://localhost:8080/"
        },
        "outputId": "2cce7bb9-e0ff-4ea5-cd0b-b1a202ecdde9"
      },
      "execution_count": 56,
      "outputs": [
        {
          "output_type": "stream",
          "name": "stdout",
          "text": [
            "The function (correctly) detected an error. \n",
            "The error message was: Input should be a shapely.geometry.Polygon\n"
          ]
        }
      ]
    },
    {
      "cell_type": "markdown",
      "source": [
        "6. Create a function `get_length()` accepting one parameter `geom`. The function should accept either a `shapely.geometry.LineString` or a `shapely.geometry.Polygon` as input. Check the type of the input and return the length of the line if input is a `LineString` and length of the exterior ring if the input is a `Polygon`. If something else is passed to the function, raise an error \"Input should be either a LineString or a Polygon\".\n",
        "\n"
      ],
      "metadata": {
        "id": "xiL_jgpppSq-"
      }
    },
    {
      "cell_type": "code",
      "source": [
        "def get_length(geom):\n",
        "  if (isinstance,(shapely.geometry.LineString)):\n",
        "    return geom.length\n",
        "  elif (isinstance,(shapely.geometry.Polygon)):\n",
        "    return geom.exterior.length\n",
        "  else:\n",
        "    raise TypeError (\"Input should be either a LineString or a Polygon\")\n",
        "# function get_length()"
      ],
      "metadata": {
        "id": "8wijSoSqrDBN"
      },
      "execution_count": 69,
      "outputs": []
    },
    {
      "cell_type": "code",
      "source": [
        "print(f\"Line length is {get_length(line1):.2f}\")\n",
        "print(f\"Polygon exterior length is {get_length(polygon1):.2f}\")"
      ],
      "metadata": {
        "id": "ECiYhK99r7Gv",
        "colab": {
          "base_uri": "https://localhost:8080/"
        },
        "outputId": "6602e920-6e03-4fa1-ccda-237174b39951"
      },
      "execution_count": 70,
      "outputs": [
        {
          "output_type": "stream",
          "name": "stdout",
          "text": [
            "Line length is 60.66\n",
            "Polygon exterior length is 121.33\n"
          ]
        }
      ]
    },
    {
      "cell_type": "code",
      "source": [
        "# NON-EDITABLE CODE CELL FOR TESTING YOUR SOLUTION\n",
        "try:\n",
        "  # Pass something else\n",
        "  get_length(Point(1,0))\n",
        "except TypeError as exception:\n",
        "  print(f\"The function (correctly) detected an error. \\nThe error message was: {exception.args[0]}\")"
      ],
      "metadata": {
        "id": "1ZbKOQv8tnHr"
      },
      "execution_count": 71,
      "outputs": []
    }
  ]
}